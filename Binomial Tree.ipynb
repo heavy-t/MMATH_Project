{
 "cells": [
  {
   "cell_type": "markdown",
   "metadata": {},
   "source": [
    "**One-Step Binomial Model**\n"
   ]
  },
  {
   "cell_type": "code",
   "execution_count": 37,
   "metadata": {},
   "outputs": [],
   "source": [
    "import math\n",
    "\n",
    "def one_step_call_price(S0, E, u, d, r, T):\n",
    "    \"\"\"Price a European call option using the one-step binomial model.\"\"\"\n",
    "    # Risk-neutral probability\n",
    "    p = (math.exp(r * T) - d) / (u - d)\n",
    "    \n",
    "    # Payoffs at maturity\n",
    "    Cu = max(S0 * u - E, 0)\n",
    "    Cd = max(S0 * d - E, 0)\n",
    "    \n",
    "    # Discounted expected value\n",
    "    C0 = math.exp(-r * T) * (p * Cu + (1 - p) * Cd)\n",
    "    \n",
    "    return {\n",
    "        \"Cu\": round(Cu,3), \"Cd\": round(Cd,3),\n",
    "        \"p\": round(p,5), \"C0\": round(C0,3)\n",
    "    }"
   ]
  },
  {
   "cell_type": "code",
   "execution_count": 38,
   "metadata": {},
   "outputs": [
    {
     "name": "stdout",
     "output_type": "stream",
     "text": [
      "{'Cu': 2.0, 'Cd': 0, 'p': 0.65227, 'C0': 1.266}\n"
     ]
    }
   ],
   "source": [
    "# Example 8.5 from the text\n",
    "S0, E, u, d, r, T = 40, 42, 1.1, 0.9, 0.12, 0.25\n",
    "result = one_step_call_price(S0, E, u, d, r, T)\n",
    "print(result)\n",
    "\n",
    "#Expected output: {'Cu': 2, 'Cd': 0, 'p': 0.65227, 'C0': 1.266}"
   ]
  },
  {
   "cell_type": "markdown",
   "metadata": {},
   "source": [
    "**Two-Step Binomial Model**"
   ]
  },
  {
   "cell_type": "code",
   "execution_count": 39,
   "metadata": {},
   "outputs": [],
   "source": [
    "def two_step_option_price(S0, E, u, d, r, T, option_type=\"call\"):\n",
    "    \"\"\"Price a European option using a two-step binomial model.\"\"\"\n",
    "    t = T / 2\n",
    "    p = (math.exp(r * t) - d) / (u - d)\n",
    "    \n",
    "    # Payoffs at maturity\n",
    "    Suu = S0 * (u ** 2)\n",
    "    Sud = S0 * u * d\n",
    "    Sdd = S0 * (d ** 2)\n",
    "    \n",
    "    if option_type == \"call\":\n",
    "        Cuu = max(Suu - E, 0)\n",
    "        Cud = max(Sud - E, 0)\n",
    "        Cdd = max(Sdd - E, 0)\n",
    "    else:  # put option\n",
    "        Cuu = max(E - Suu, 0)\n",
    "        Cud = max(E - Sud, 0)\n",
    "        Cdd = max(E - Sdd, 0)\n",
    "    \n",
    "    # Price at t=0\n",
    "    C0 = math.exp(-r * T) * (\n",
    "        (p ** 2) * Cuu +\n",
    "        2 * p * (1 - p) * Cud +\n",
    "        ((1 - p) ** 2) * Cdd\n",
    "    )\n",
    "    \n",
    "    return {\n",
    "        \"p\": round(p,5),\n",
    "        \"Cuu\": round(Cuu,3), \"Cud\": round(Cud,3), \"Cdd\": round(Cdd,3),\n",
    "        \"C0\": round(C0,3)\n",
    "    }"
   ]
  },
  {
   "cell_type": "code",
   "execution_count": 40,
   "metadata": {},
   "outputs": [
    {
     "name": "stdout",
     "output_type": "stream",
     "text": [
      "{'p': 0.56329, 'Cuu': 0, 'Cud': 0, 'Cdd': 6.4, 'C0': 1.161}\n"
     ]
    }
   ],
   "source": [
    "# Example 9.6: Two-step put option\n",
    "S0, E, u, d, r, T = 40, 32, 1.2, 0.8, 0.1, 0.5\n",
    "result = two_step_option_price(S0, E, u, d, r, T, option_type=\"put\")\n",
    "print(result)\n",
    "\n",
    "# Expected output: {'p': 0.56329, 'Cuu': 0, 'Cud': 0, 'Cdd': 6.4, 'C0': 1.161}"
   ]
  },
  {
   "cell_type": "markdown",
   "metadata": {},
   "source": [
    "**Multi-Step (N-Step) Binomial Model**"
   ]
  },
  {
   "cell_type": "code",
   "execution_count": 41,
   "metadata": {},
   "outputs": [],
   "source": [
    "def binomial_option_price(S0, E, r, T, u, d, N, option_type=\"call\"):\n",
    "    \"\"\"Price a European option using an N-step binomial tree.\"\"\"\n",
    "    dt = T / N\n",
    "    p = (math.exp(r * dt) - d) / (u - d)\n",
    "    \n",
    "    # Prices at maturity\n",
    "    prices = [S0 * (u ** j) * (d ** (N - j)) for j in range(N + 1)]\n",
    "    \n",
    "    # Option payoffs at maturity\n",
    "    if option_type == \"call\":\n",
    "        values = [max(price - E, 0) for price in prices]\n",
    "    else:\n",
    "        values = [max(E - price, 0) for price in prices]\n",
    "    \n",
    "    # Work backwards through the tree\n",
    "    for i in range(N - 1, -1, -1):\n",
    "        values = [\n",
    "            math.exp(-r * dt) * (p * values[j + 1] + (1 - p) * values[j])\n",
    "            for j in range(i + 1)\n",
    "        ]\n",
    "    \n",
    "    return {\n",
    "        \"p\": round(p,5),\n",
    "        \"option_price\": round(values[0],2)\n",
    "    }"
   ]
  },
  {
   "cell_type": "code",
   "execution_count": 42,
   "metadata": {},
   "outputs": [
    {
     "name": "stdout",
     "output_type": "stream",
     "text": [
      "{'p': 0.55025, 'option_price': 2.44}\n"
     ]
    }
   ],
   "source": [
    "# Example: Multi-step call option (use same parameters as Example 8.5 but N=3)\n",
    "S0, E, r, T, u, d, N = 40, 42, 0.12, 0.25, 1.1, 0.9, 3\n",
    "print(binomial_option_price(S0, E, r, T, u, d, N, \"call\"))"
   ]
  }
 ],
 "metadata": {
  "kernelspec": {
   "display_name": ".venv",
   "language": "python",
   "name": "python3"
  },
  "language_info": {
   "codemirror_mode": {
    "name": "ipython",
    "version": 3
   },
   "file_extension": ".py",
   "mimetype": "text/x-python",
   "name": "python",
   "nbconvert_exporter": "python",
   "pygments_lexer": "ipython3",
   "version": "3.13.1"
  }
 },
 "nbformat": 4,
 "nbformat_minor": 2
}
